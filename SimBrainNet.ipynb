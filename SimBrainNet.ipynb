{
  "nbformat": 4,
  "nbformat_minor": 0,
  "metadata": {
    "colab": {
      "provenance": []
    },
    "kernelspec": {
      "name": "python3",
      "display_name": "Python 3"
    },
    "language_info": {
      "name": "python"
    }
  },
  "cells": [
    {
      "cell_type": "code",
      "execution_count": 1,
      "metadata": {
        "colab": {
          "base_uri": "https://localhost:8080/"
        },
        "id": "K9iz_cfs90fg",
        "outputId": "b21d13ba-ba3f-4b3a-938f-051fd9603f43"
      },
      "outputs": [
        {
          "output_type": "stream",
          "name": "stdout",
          "text": [
            "Requirement already satisfied: networkx in /usr/local/lib/python3.10/dist-packages (3.3)\n"
          ]
        }
      ],
      "source": [
        "! pip install networkx"
      ]
    },
    {
      "cell_type": "code",
      "source": [
        "import networkx as nx\n",
        "import matplotlib.pyplot as plt"
      ],
      "metadata": {
        "id": "EtfAgzQI-0A8"
      },
      "execution_count": 2,
      "outputs": []
    },
    {
      "cell_type": "code",
      "source": [
        "## 3D location(cartesian) of EEG channels\n",
        "loc={}\n",
        "loc['F2'] = (8.04,\t-2.68,\t5.31) #0\n",
        "loc['Fp2']= (9.83,\t-3.36,\t0.751) #1\n",
        "loc['AFz']= (10.2,\t0, 3.53) #2\n",
        "loc['F1'] = (9.61,\t2.4,\t3.52) #3\n",
        "loc['Fp1'] = (10.6,\t1.98,\t-1.24) #4\n",
        "loc['CP3'] =(-0.17, 7.53, 2.95) #5\n",
        "loc['P5']= (-3.93, 7.09, 0.55) #6\n",
        "loc['Pz'] = (-5.62,\t-6.89e-16,\t7.11) #7\n",
        "loc['O1'] = (-8.32,\t3.7,\t-3.37) #8\n",
        "loc['Oz'] = (-9.1,\t2.1,\t-3.99) #9\n",
        "loc['O2'] = (-9.1,\t-2.1,\t-3.66) #10\n",
        "loc['CP4']= (-4.91, -6.52, 3.10)#11\n",
        "loc['P6']=  (-5.22, -6.45,-1.59) #12\n",
        "\n",
        "# Print the dictionary\n",
        "print(loc)\n"
      ],
      "metadata": {
        "colab": {
          "base_uri": "https://localhost:8080/"
        },
        "id": "NOgUgwq8pwua",
        "outputId": "78dec683-9aeb-4aca-e23d-de9601e5e6c6"
      },
      "execution_count": 3,
      "outputs": [
        {
          "output_type": "stream",
          "name": "stdout",
          "text": [
            "{'F2': (8.04, -2.68, 5.31), 'Fp2': (9.83, -3.36, 0.751), 'AFz': (10.2, 0, 3.53), 'F1': (9.61, 2.4, 3.52), 'Fp1': (10.6, 1.98, -1.24), 'CP3': (-0.17, 7.53, 2.95), 'P5': (-3.93, 7.09, 0.55), 'Pz': (-5.62, -6.89e-16, 7.11), 'O1': (-8.32, 3.7, -3.37), 'Oz': (-9.1, 2.1, -3.99), 'O2': (-9.1, -2.1, -3.66), 'CP4': (-4.91, -6.52, 3.1), 'P6': (-5.22, -6.45, -1.59)}\n"
          ]
        }
      ]
    },
    {
      "cell_type": "code",
      "source": [
        "#Region directory to map EEG channels: Brain Lobe\n",
        "reg_dict = {}\n",
        "# Add elements to the dictionary with multiple values for each key\n",
        "reg_dict['F2'] = ['Frontal'] #0\n",
        "reg_dict['Fp2']= ['Frontal'] #1\n",
        "reg_dict['AFz']= ['Frontal'] #2\n",
        "reg_dict['F1'] = ['Frontal'] #3\n",
        "reg_dict['Fp1'] = ['Frontal'] #4\n",
        "reg_dict['CP3'] = ['Central'] #5\n",
        "reg_dict['P5'] = ['Parietal'] #6\n",
        "reg_dict['Pz'] = ['Parietal'] #7\n",
        "reg_dict['O1'] = ['Occipital'] #8\n",
        "reg_dict['Oz'] = ['Occipital'] #9\n",
        "reg_dict['O2'] = ['Occipital'] #10\n",
        "reg_dict['CP4'] = ['Central'] #11\n",
        "reg_dict['P6'] = ['Parietal'] #12\n",
        "\n",
        "# Print the dictionary\n",
        "#print(reg_dict)\n",
        "print (reg_dict['F1'][0])"
      ],
      "metadata": {
        "id": "7V0Ro6jnJ_p4",
        "colab": {
          "base_uri": "https://localhost:8080/"
        },
        "outputId": "3ca11c73-505d-4c08-96d8-745d29683957"
      },
      "execution_count": 4,
      "outputs": [
        {
          "output_type": "stream",
          "name": "stdout",
          "text": [
            "Frontal\n"
          ]
        }
      ]
    },
    {
      "cell_type": "code",
      "source": [
        "## Spatial neighbor dictionary\n",
        "spnbor_dict = {}\n",
        "# Add elements to the dictionary with multiple values for each key\n",
        "#spnbor_dict['F2'] = ['AFz']\n",
        "spnbor_dict['F2'] = ['F1','AFz']\n",
        "#spnbor_dict['Fp2'] = ['Fp1']\n",
        "spnbor_dict['Fp2'] = ['AFz','Fp1']\n",
        "spnbor_dict['AFz'] = ['F1','F2','Fp1','Fp2']\n",
        "#spnbor_dict['F1'] = ['AFz']\n",
        "spnbor_dict['F1'] = ['F2','AFz']\n",
        "#spnbor_dict['Fp1'] = ['Fp2']\n",
        "spnbor_dict['Fp1'] = ['AFz','Fp2']\n",
        "spnbor_dict['CP3'] = ['P5']\n",
        "spnbor_dict['P5'] = ['CP3']\n",
        "spnbor_dict['Pz'] = ['Oz','O1','O2']\n",
        "spnbor_dict['O1'] = ['O2', 'Oz']\n",
        "spnbor_dict['Oz'] = ['O1', 'O2', 'Pz']\n",
        "spnbor_dict['O2'] = ['O1', 'Oz']\n",
        "spnbor_dict['CP4'] = ['P6']\n",
        "spnbor_dict['P6'] = ['CP4']\n",
        "# Print the dictionary\n",
        "print(spnbor_dict)\n"
      ],
      "metadata": {
        "colab": {
          "base_uri": "https://localhost:8080/"
        },
        "id": "lgN2tWIwt99q",
        "outputId": "ce73e008-8249-425c-8d15-b6685a920d9a"
      },
      "execution_count": 5,
      "outputs": [
        {
          "output_type": "stream",
          "name": "stdout",
          "text": [
            "{'F2': ['F1', 'AFz'], 'Fp2': ['AFz', 'Fp1'], 'AFz': ['F1', 'F2', 'Fp1', 'Fp2'], 'F1': ['F2', 'AFz'], 'Fp1': ['AFz', 'Fp2'], 'CP3': ['P5'], 'P5': ['CP3'], 'Pz': ['Oz', 'O1', 'O2'], 'O1': ['O2', 'Oz'], 'Oz': ['O1', 'O2', 'Pz'], 'O2': ['O1', 'Oz'], 'CP4': ['P6'], 'P6': ['CP4']}\n"
          ]
        }
      ]
    },
    {
      "cell_type": "code",
      "source": [
        "# ADHD MTE Graph: S1(event 1). Weights are obtained from the edge values of MTE graph\n",
        "G1 = nx.DiGraph()\n",
        "\n",
        "G1.add_node('Fp2')\n",
        "G1.add_node('F2')\n",
        "G1.add_node('O1')\n",
        "#G1.add_node('Oz')\n",
        "\n",
        "G1.add_edge('O1', 'Fp2', weight=0.009)\n",
        "G1.add_edge('F2', 'Fp2', weight=0.017)\n",
        "G1.add_edge('Fp2', 'O1', weight=0.021)\n",
        "#G1.add_edge('Oz', 'O1', weight=0.021)\n"
      ],
      "metadata": {
        "id": "SAp8tokiftNN"
      },
      "execution_count": 39,
      "outputs": []
    },
    {
      "cell_type": "code",
      "source": [
        "# ADHD MTE Graph: S1(event 2). Weights are obtained from the edge values of MTE graph\n",
        "G2 = nx.DiGraph()\n",
        "\n",
        "G2.add_node('F1')\n",
        "G2.add_node('Fp2')\n",
        "G2.add_node('Fp1')\n",
        "G2.add_node('AFz')\n",
        "\n",
        "G2.add_edge('AFz', 'F1', weight=0.009)\n",
        "G2.add_edge('Fp2', 'F1', weight=0.013)\n",
        "G2.add_edge('Fp1', 'F1', weight=0.017)\n",
        "G2.add_edge('Fp2', 'AFz', weight=0.021)\n",
        "#show_wgraph()\n"
      ],
      "metadata": {
        "id": "7ia9hMCIgQZz"
      },
      "execution_count": 42,
      "outputs": []
    },
    {
      "cell_type": "code",
      "source": [
        "# Function: Weighted graph\n",
        "def show_wgraph():\n",
        "    plt.figure()\n",
        "    pos = nx.spring_layout(G1)\n",
        "    weight_labels = nx.get_edge_attributes(G1,'weight')\n",
        "    nx.draw(G1,pos,font_color = 'white', node_shape = 's', with_labels = True,)\n",
        "    output = nx.draw_networkx_edge_labels(G1,pos,edge_labels=weight_labels)\n",
        "show_wgraph()"
      ],
      "metadata": {
        "id": "0syZfZ38CXas",
        "colab": {
          "base_uri": "https://localhost:8080/",
          "height": 516
        },
        "outputId": "3269b86e-a3eb-4f51-948c-bb7d5e5ff66f"
      },
      "execution_count": 8,
      "outputs": [
        {
          "output_type": "display_data",
          "data": {
            "text/plain": [
              "<Figure size 640x480 with 1 Axes>"
            ],
            "image/png": "[encoded data removed]"
          },
          "metadata": {}
        }
      ]
    },
    {
      "cell_type": "code",
      "source": [
        "## Check the number of nodes of two graphs for subsequent operations:\n",
        "# If len(G1.nodes)==len(G2.nodes)-> Substitution\n",
        "# If len(G1.nodes)!=len(G2.nodes)-> Insertion(small graph, here G1) OR Deletion (from large graph, here G2)\n",
        "print(len(G1.nodes),len(G2.nodes))"
      ],
      "metadata": {
        "colab": {
          "base_uri": "https://localhost:8080/"
        },
        "id": "dnTXqcou7vfg",
        "outputId": "b4499b01-d157-4b0b-cff5-db2f3b05e415"
      },
      "execution_count": 43,
      "outputs": [
        {
          "output_type": "stream",
          "name": "stdout",
          "text": [
            "3 4\n"
          ]
        }
      ]
    },
    {
      "cell_type": "code",
      "source": [
        "# Find common nodes in G1 and G2\n",
        "#common_nodes = list(nx.intersection(G12, G21).nodes())\n",
        "common_nodes = list(nx.intersection(G1, G2).nodes())\n",
        "#subtracted_list = list(set(original_list) - set(elements_to_subtract))\n",
        "#uncommon_nodes =list(G12.nodes-common_nodes)\n",
        "uncommon_nodes =list(G1.nodes-common_nodes)\n",
        "print(\"Common nodes between G1 and G2:\", common_nodes)\n",
        "print(\"UnCommon nodes between G1 and G2:\", uncommon_nodes)"
      ],
      "metadata": {
        "colab": {
          "base_uri": "https://localhost:8080/"
        },
        "id": "co5NmkqtVCgK",
        "outputId": "bff0d1bd-3f75-49e4-b783-b6ad5abe6357"
      },
      "execution_count": 10,
      "outputs": [
        {
          "output_type": "stream",
          "name": "stdout",
          "text": [
            "Common nodes between G1 and G2: ['Fp2']\n",
            "UnCommon nodes between G1 and G2: ['Oz', 'F2', 'O1']\n"
          ]
        }
      ]
    },
    {
      "cell_type": "code",
      "source": [
        "### New Substitution cost and new graph\n",
        "\n",
        "import networkx as nx\n",
        "import numpy as np\n",
        "\n",
        "loc_dic ={'F2': (8.04, -2.68, 5.31), 'Fp2': (9.83, -3.36, 0.751), 'AFz': (10.2, 0, 3.53), 'F1': (9.61, 2.4, 3.52), 'Fp1': (10.6, 1.98, -1.24), 'CP3': (-0.17, 7.53, 2.95), 'P5': (-3.93, 7.09, 0.55), 'Pz': (-5.62, -6.89e-16, 7.11), 'O1': (-8.32, 3.7, -3.37), 'Oz': (-9.1, 2.1, -3.99), 'O2': (-9.1, -2.1, -3.66), 'CP4': (-4.91, -6.52, 3.1), 'P6': (-5.22, -6.45, -1.59)}\n",
        "\n",
        "def Find_subst_cost(G1, G2, reg_dict, spnbor_dict):\n",
        "    common_nodes = list(nx.intersection(G1, G2).nodes())\n",
        "    uncommon_nodes =list(G1.nodes-common_nodes)\n",
        "    uncommon_nodes_G1 = uncommon_nodes\n",
        "    all_nodes_G2 = G2.nodes\n",
        "    subst_costs = {}\n",
        "\n",
        "    for n in uncommon_nodes_G1:\n",
        "        brain_region_n = reg_dict[n][0]  # Get the brain region of node n in G1\n",
        "        spatial_neighbors_n = spnbor_dict[n] if n in spnbor_dict else []  # Get spatial neighbors of node n in G1\n",
        "\n",
        "        subst_cost = 0\n",
        "        count = 0\n",
        "        if any(reg_dict[n] == reg_dict[k] for k in all_nodes_G2) and any(n in spnbor_dict[k] for k in all_nodes_G2):\n",
        "            #print(\"case 1\")\n",
        "            # Case a: Spatial neighbor of node in G1 exists in G2.nodes\n",
        "            valid_nodes_a = [k for k in all_nodes_G2 if k in spnbor_dict[n]]\n",
        "\n",
        "            if valid_nodes_a is not None and len(valid_nodes_a) > 0:\n",
        "                p = valid_nodes_a[0]  # Find a node in G2 with the same region and spatial neighbors as n\n",
        "                G2_replaced_edges= sum(G2.get_edge_data(edge[0], edge[1])['weight'] for edge in G2.edges(p) if G2.has_edge(*edge))\n",
        "                if G2_replaced_edges is None:\n",
        "                  G2_replaced_edges = 0\n",
        "                G1_old_edges= sum(G1.get_edge_data(edge[0], edge[1])['weight'] for edge in G1.edges(n) if G1.has_edge(*edge))\n",
        "                if G1_old_edges is None:\n",
        "                  G1_old_edges = 0\n",
        "                subst_cost += abs(G2_replaced_edges-G1_old_edges)  # Calculate substitution cost (replced nodes MTE-old node's MTE)\n",
        "                count += 1\n",
        "            ## case c: Find the channel in distant region (G2) than same region of G1.node (n)\n",
        "            max_edge_value = float('-inf')\n",
        "            for m in G2.nodes:\n",
        "              if G1.has_edge(n, m):\n",
        "                edge_values = [G1.get_edge_data(n, m)['weight']] #edge value between node in G1 (i.e; 'n') and G2 (i.e., 'm')\n",
        "                #G1.edges[n][m]]\n",
        "                max_edge_value = max(max_edge_value, max(edge_values, default=float('-inf'))) #compute max_MTE among all nodes in G2\n",
        "            print(\"Substitution cost:\",subst_cost)\n",
        "            subst_cost += abs(max_edge_value-G1_old_edges)\n",
        "\n",
        "    return subst_cost\n",
        "\n",
        "Subst_cost= Find_subst_cost(G1,G2,reg_dict,spnbor_dict)"
      ],
      "metadata": {
        "colab": {
          "base_uri": "https://localhost:8080/"
        },
        "id": "9UJZMgJd4VqS",
        "outputId": "7c5f1b7d-0dcb-4833-e6df-2ef07befc256"
      },
      "execution_count": 37,
      "outputs": [
        {
          "output_type": "stream",
          "name": "stdout",
          "text": [
            "Substitution cost: 0.017\n"
          ]
        }
      ]
    },
    {
      "cell_type": "code",
      "source": [
        "## Insertion cost (call for the graph with less no. of nodes) ## Need to change by adding new transformed graph\n",
        "\n",
        "def update_graph_ins_cost(G):\n",
        "  ins_cost=0\n",
        "  nodes=['F2'] # for example, we found 'F2' as the significant node from MTE graph\n",
        "  G.add_weighted_edges_from([('F2', 'Oz', 0.25)])\n",
        "  # Initialize variables to store total weight and count of incoming and outgoing edges for each node\n",
        "  total_weight_in = {node: 0 for node in nodes}\n",
        "  total_weight_out = {node: 0 for node in nodes}\n",
        "  count_in = {node: 0 for node in nodes}\n",
        "  count_out = {node: 0 for node in nodes}\n",
        "\n",
        "  # Iterate over nodes\n",
        "  for node in nodes:\n",
        "    # Iterate over incoming edges of node\n",
        "    for predecessor in G.predecessors(node):\n",
        "      weight = G[predecessor][node]['weight']\n",
        "      total_weight_in[node] += weight\n",
        "      count_in[node] += 1\n",
        "\n",
        "    # Iterate over outgoing edges of node\n",
        "    for successor in G.successors(node):\n",
        "      weight = G[node][successor]['weight']\n",
        "      total_weight_out[node] += weight\n",
        "      count_out[node] += 1\n",
        "\n",
        "    # Calculate the mean of edge weights for incoming and outgoing edges for each node\n",
        "    mean_weight_in = {node: total_weight_in[node] / count_in[node] if count_in[node] > 0 else 0 for node in nodes}\n",
        "    mean_weight_out = {node: total_weight_out[node] / count_out[node] if count_out[node] > 0 else 0 for node in nodes}\n",
        "\n",
        "    # Calculate the total mean of mean_weight_in and mean_weight_out for all nodes\n",
        "    ins_cost = sum(mean_weight_in.values()) / len(mean_weight_in)\n",
        "    #print(ins_cost)\n",
        "  return G, ins_cost\n",
        "updated_graph_ins, ins_cost=update_graph_ins_cost(G2)\n",
        "\n",
        "print (\"Insertion cost is:\",ins_cost)"
      ],
      "metadata": {
        "id": "gcRzeLb6FYHA",
        "colab": {
          "base_uri": "https://localhost:8080/"
        },
        "outputId": "26b1516a-77c5-4adc-9dc0-563556827239"
      },
      "execution_count": 40,
      "outputs": [
        {
          "output_type": "stream",
          "name": "stdout",
          "text": [
            "Insertion cost is: 0.0\n"
          ]
        }
      ]
    },
    {
      "cell_type": "code",
      "source": [
        "import networkx as nx\n",
        "\n",
        "delete_cost = 0\n",
        "\n",
        "def update_graph_del_cost(G2, D):\n",
        "    # Step 1: Find nodes with special neighbors present in node list in G2\n",
        "    nodes_with_neighbors = set()\n",
        "    for node, neighbors in D.items():\n",
        "        for neighbor in neighbors:\n",
        "            if neighbor in G2.nodes():\n",
        "                nodes_with_neighbors.add(node)\n",
        "\n",
        "    # Step 2: Compute mean weights for nodes with neighbors\n",
        "    mean_weights = {}\n",
        "    for node in nodes_with_neighbors:\n",
        "        total_weight_in = 0\n",
        "        total_weight_out = 0\n",
        "        count_in = 0\n",
        "        count_out = 0\n",
        "\n",
        "        # Calculate total weights and counts for incoming edges\n",
        "        for predecessor in G2.predecessors(node):\n",
        "            weight = G2[predecessor][node]['weight']\n",
        "            total_weight_in += weight\n",
        "            count_in += 1\n",
        "\n",
        "        # Calculate total weights and counts for outgoing edges\n",
        "        for successor in G2.successors(node):\n",
        "            weight = G2[node][successor]['weight']\n",
        "            total_weight_out += weight\n",
        "            count_out += 1\n",
        "\n",
        "        # Calculate mean weights for incoming and outgoing edges\n",
        "        mean_weight_in = total_weight_in / count_in if count_in > 0 else 0\n",
        "        mean_weight_out = total_weight_out / count_out if count_out > 0 else 0\n",
        "\n",
        "        # Store mean weights\n",
        "        mean_weights[node] = mean_weight_in + mean_weight_out\n",
        "\n",
        "    # Step 3: Replace the node(s) with the least total mean with its neighbor and add associated edges\n",
        "    min_mean_value = min(mean_weights.values())\n",
        "    min_mean_nodes = [node for node, mean in mean_weights.items() if mean == min_mean_value]\n",
        "    replaced_edges = []\n",
        "\n",
        "    for min_mean_node in min_mean_nodes:\n",
        "        neighbors_to_replace_with = D[min_mean_node]\n",
        "        common_nodes = set(G2.neighbors(min_mean_node))\n",
        "        for neighbor_to_replace_with in neighbors_to_replace_with:\n",
        "            common_nodes &= set(G2.neighbors(neighbor_to_replace_with))\n",
        "\n",
        "        # Add incoming edges of the node to its replaced neighbor\n",
        "        for predecessor in G2.predecessors(min_mean_node):\n",
        "            weight = G2[predecessor][min_mean_node]['weight']\n",
        "            if predecessor not in common_nodes:\n",
        "                for neighbor_to_replace_with in neighbors_to_replace_with:\n",
        "                    G2.add_edge(predecessor, neighbor_to_replace_with, weight=weight)\n",
        "                    replaced_edges.append((predecessor, neighbor_to_replace_with, weight))\n",
        "\n",
        "        # Add outgoing edges of the node to its replaced neighbor\n",
        "        for successor in G2.successors(min_mean_node):\n",
        "            weight = G2[min_mean_node][successor]['weight']\n",
        "            if successor not in common_nodes:\n",
        "                for neighbor_to_replace_with in neighbors_to_replace_with:\n",
        "                    G2.add_edge(neighbor_to_replace_with, successor, weight=weight)\n",
        "                    replaced_edges.append((neighbor_to_replace_with, successor, weight))\n",
        "\n",
        "        # Remove the node and its associated edges from G2\n",
        "        G2.remove_node(min_mean_node)\n",
        "\n",
        "    # Compute delete cost\n",
        "    delete_cost = sum(mean_weights[min_mean_node] for min_mean_node in min_mean_nodes)\n",
        "\n",
        "    return G2, delete_cost\n",
        "\n",
        "# Example usage\n",
        "G2 = nx.DiGraph()\n",
        "G2.add_weighted_edges_from([('Fp2', 'AFz', 1), ('Fp2', 'Fp1', 2), ('AFz', 'F1', 1), ('AFz', 'Fp1', 3), ('F1', 'AFz', 4), ('Fp1', 'AFz', 2), ('Fp1', 'Fp2', 1)])\n",
        "\n",
        "D = {'Fp2': ['AFz', 'Fp1'], 'AFz': ['F1', 'Fp1', 'Fp2'], 'F1': ['AFz'], 'Fp1': ['AFz', 'Fp2']}\n",
        "\n",
        "updated_graph_del, delete_cost = update_graph_del_cost(G2, D)\n",
        "print(\"Delete cost:\", delete_cost)\n"
      ],
      "metadata": {
        "id": "G5sgQc_AFYP-",
        "colab": {
          "base_uri": "https://localhost:8080/"
        },
        "outputId": "61559ba7-36d0-4f17-e7dc-00820c684baa"
      },
      "execution_count": 44,
      "outputs": [
        {
          "output_type": "stream",
          "name": "stdout",
          "text": [
            "Delete cost: 2.5\n"
          ]
        }
      ]
    },
    {
      "cell_type": "code",
      "source": [
        "import networkx as nx\n",
        "import numpy as np\n",
        "\n",
        "# Placeholder for substitution cost function\n",
        "def Find_subst_cost(G1, G2, reg_dict, spnbor_dict):\n",
        "    # Implement your substitution cost function here\n",
        "    return 0  # Replace with actual substitution cost calculation\n",
        "\n",
        "# Placeholder for insertion cost function\n",
        "def update_graph_ins_cost(G1):\n",
        "    # Implement your insertion cost function here\n",
        "    ins_cost = 0  # Replace with actual insertion cost\n",
        "    updated_graph = G1.copy()  # Replace with actual updated graph\n",
        "    return ins_cost, updated_graph\n",
        "\n",
        "# Deletion cost function\n",
        "def update_graph_del_cost(G2, D):\n",
        "    delete_cost = 0\n",
        "\n",
        "    # Step 1: Find nodes with special neighbors present in node list in G2\n",
        "    nodes_with_neighbors = set()\n",
        "    for node, neighbors in D.items():\n",
        "        for neighbor in neighbors:\n",
        "            if neighbor in G2.nodes():\n",
        "                nodes_with_neighbors.add(node)\n",
        "\n",
        "    # Step 2: Compute mean weights for nodes with neighbors\n",
        "    mean_weights = {}\n",
        "    for node in nodes_with_neighbors:\n",
        "        total_weight_in = 0\n",
        "        total_weight_out = 0\n",
        "        count_in = 0\n",
        "        count_out = 0\n",
        "\n",
        "        # Calculate total weights and counts for incoming edges\n",
        "        for predecessor in G2.predecessors(node):\n",
        "            weight = G2[predecessor][node]['weight']\n",
        "            total_weight_in += weight\n",
        "            count_in += 1\n",
        "\n",
        "        # Calculate total weights and counts for outgoing edges\n",
        "        for successor in G2.successors(node):\n",
        "            weight = G2[node][successor]['weight']\n",
        "            total_weight_out += weight\n",
        "            count_out += 1\n",
        "\n",
        "        # Calculate mean weights for incoming and outgoing edges\n",
        "        mean_weight_in = total_weight_in / count_in if count_in > 0 else 0\n",
        "        mean_weight_out = total_weight_out / count_out if count_out > 0 else 0\n",
        "\n",
        "        # Store mean weights\n",
        "        mean_weights[node] = mean_weight_in + mean_weight_out\n",
        "\n",
        "    # Step 3: Replace the node(s) with the least total mean with its neighbor and add associated edges\n",
        "    min_mean_value = min(mean_weights.values())\n",
        "    min_mean_nodes = [node for node, mean in mean_weights.items() if mean == min_mean_value]\n",
        "    replaced_edges = []\n",
        "\n",
        "    for min_mean_node in min_mean_nodes:\n",
        "        neighbors_to_replace_with = D[min_mean_node]\n",
        "        common_nodes = set(G2.neighbors(min_mean_node))\n",
        "        for neighbor_to_replace_with in neighbors_to_replace_with:\n",
        "            common_nodes &= set(G2.neighbors(neighbor_to_replace_with))\n",
        "\n",
        "        # Add incoming edges of the node to its replaced neighbor\n",
        "        for predecessor in G2.predecessors(min_mean_node):\n",
        "            weight = G2[predecessor][min_mean_node]['weight']\n",
        "            if predecessor not in common_nodes:\n",
        "                for neighbor_to_replace_with in neighbors_to_replace_with:\n",
        "                    G2.add_edge(predecessor, neighbor_to_replace_with, weight=weight)\n",
        "                    replaced_edges.append((predecessor, neighbor_to_replace_with, weight))\n",
        "\n",
        "        # Add outgoing edges of the node to its replaced neighbor\n",
        "        for successor in G2.successors(min_mean_node):\n",
        "            weight = G2[min_mean_node][successor]['weight']\n",
        "            if successor not in common_nodes:\n",
        "                for neighbor_to_replace_with in neighbors_to_replace_with:\n",
        "                    G2.add_edge(neighbor_to_replace_with, successor, weight=weight)\n",
        "                    replaced_edges.append((neighbor_to_replace_with, successor, weight))\n",
        "\n",
        "        # Remove the node and its associated edges from G2\n",
        "        G2.remove_node(min_mean_node)\n",
        "\n",
        "    # Compute delete cost\n",
        "    delete_cost = sum(mean_weights[min_mean_node] for min_mean_node in min_mean_nodes)\n",
        "\n",
        "    return delete_cost, G2\n",
        "\n",
        "# Compute Similarity Score\n",
        "def compute_similarity_score(G1, G2):\n",
        "    # Find common nodes\n",
        "    common_nodes = set(G1.nodes) & set(G2.nodes)\n",
        "    # For delete cost: Put the top (1) spatial neighbor of G2\n",
        "    D = {'AFz': ['F1'], 'F1': ['AFz'], 'Fp1': ['Fp2'], 'T7': ['P7'], 'Pz': ['O1'], 'O1': ['O2'], 'O2': ['O1']}\n",
        "    ## take the one spatial neighbor of same brain region\n",
        "    Ec_Ins_del = 0\n",
        "    delete_cost = float('inf')  # Initialize with a large number\n",
        "    ins_cost = float('inf')  # Initialize with a large number\n",
        "    updated_graph_ins = nx.DiGraph()\n",
        "    updated_graph_del = nx.DiGraph()\n",
        "    G_sub = nx.DiGraph()\n",
        "    reg_dict = {}\n",
        "    spnbor_dict = {}\n",
        "\n",
        "    # Step 1: If the number of nodes are equal, compute substitution cost\n",
        "    print(G1.nodes, G2.nodes)\n",
        "    if len(G1.nodes) == len(G2.nodes):\n",
        "        sub_cost = Find_subst_cost(G1, G2, reg_dict, spnbor_dict)\n",
        "\n",
        "    # Step 2: If the number of nodes are not equal, compute insertion or deletion cost\n",
        "    elif len(G1.nodes) < len(G2.nodes):\n",
        "        ins_cost, updated_graph_ins = update_graph_ins_cost(G1)\n",
        "\n",
        "    else:\n",
        "        delete_cost, updated_graph_del = update_graph_del_cost(G2, D)\n",
        "\n",
        "    # Step 3: Determine which operation (insertion or deletion) gives minimum cost\n",
        "    if ins_cost < delete_cost:\n",
        "        Ec_Ins_del = ins_cost\n",
        "        transformed_graph = updated_graph_ins\n",
        "    else:\n",
        "        Ec_Ins_del = delete_cost\n",
        "        transformed_graph = updated_graph_del  # This can be G2 if you are deleting from G2\n",
        "\n",
        "    # Step 4: Compute substitution cost after equalizing the number of nodes\n",
        "    sub_cost = Find_subst_cost(transformed_graph, G2, reg_dict, spnbor_dict)\n",
        "\n",
        "    # Step 5: Compute similarity score\n",
        "    similarity_score = sub_cost + Ec_Ins_del\n",
        "\n",
        "    return similarity_score\n",
        "\n",
        "# Example usage\n",
        "\n",
        "similarity_score = compute_similarity_score(G1, G2)\n",
        "print(\"Similarity score:\", similarity_score)\n"
      ],
      "metadata": {
        "id": "JLHYc3GABwR6",
        "colab": {
          "base_uri": "https://localhost:8080/"
        },
        "outputId": "40425008-501d-4db0-d179-931f216bded0"
      },
      "execution_count": 47,
      "outputs": [
        {
          "output_type": "stream",
          "name": "stdout",
          "text": [
            "['Fp2', 'F2', 'O1'] ['AFz', 'Fp1', 'F1']\n",
            "Similarity score: 0.017\n"
          ]
        }
      ]
    },
    {
      "cell_type": "code",
      "source": [],
      "metadata": {
        "id": "HF8-veYM_BnI"
      },
      "execution_count": null,
      "outputs": []
    }
  ]
}